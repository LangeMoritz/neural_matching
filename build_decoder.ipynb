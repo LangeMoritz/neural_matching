{
 "cells": [
  {
   "cell_type": "code",
   "execution_count": 3,
   "metadata": {},
   "outputs": [],
   "source": [
    "# IMPORTS\n",
    "import numpy as np\n",
    "import torch\n",
    "import matplotlib.pyplot as plt\n",
    "import os\n",
    "import scienceplots\n",
    "plt.style.use('science')\n",
    "plt.rcParams['figure.dpi'] = 300\n",
    "import matplotlib.colors as colors\n",
    "plt.rcParams['axes.prop_cycle'] = plt.cycler(color=[colors.hex2color(\"#66c2a5\"), colors.hex2color(\"#fc8d62\"), colors.hex2color(\"#8da0cb\"), colors.hex2color(\"#e78ac3\"), colors.hex2color( \"#a6d854\")])\n",
    "import torch.nn as nn\n",
    "\n",
    "from src.rotated_surface_code import RotatedCode\n",
    "from src.graph_representation import get_torch_graph"
   ]
  },
  {
   "cell_type": "markdown",
   "metadata": {},
   "source": [
    "# Create error chains and syndromes"
   ]
  },
  {
   "cell_type": "code",
   "execution_count": 6,
   "metadata": {},
   "outputs": [],
   "source": [
    "d = 5\n",
    "code = RotatedCode(d)\n",
    "H_check = code.H\n",
    "p = 0.1"
   ]
  },
  {
   "cell_type": "code",
   "execution_count": 8,
   "metadata": {},
   "outputs": [],
   "source": [
    "def generate_error_chain(p, code_size):\n",
    "    n_qubits = int(code_size ** 2)\n",
    "    p_x = p_y = p_z = p/3 # Unbiased noise\n",
    "    noise = np.zeros(n_qubits, dtype = np.uint8)\n",
    "    draws = np.random.random(n_qubits)\n",
    "    noise[(draws <= p_x)] = 1\n",
    "    noise[(p_x < draws) & (draws <= p_x+p_y)] = 2\n",
    "    noise[(p_x+p_y < draws) & (draws <= p_x+p_y+p_z)] = 3\n",
    "    return noise"
   ]
  },
  {
   "cell_type": "code",
   "execution_count": 9,
   "metadata": {},
   "outputs": [],
   "source": [
    "def get_syndrome(error_string, H_check, code_size):\n",
    "    # Create separate binary strings for X and Z errors\n",
    "    error_string_x = (error_string == 1) + (error_string == 2)\n",
    "    error_string_z = (error_string == 3) + (error_string == 2)\n",
    "\n",
    "    # Re-order X-errors to get correct qubit indices for Z-stabilizers\n",
    "    error_string_x = np.rot90(error_string_x.reshape(code_size, code_size)).flatten()\n",
    "\n",
    "    # Since they are identical, use same check matrix for both Z and X\n",
    "    # Create separate syndrome strings for X and Z stabilizers\n",
    "    # Note: X errors are checked by Z stabilizers and vice versa\n",
    "    syndrome_string_x = H_check@error_string_z % 2\n",
    "    syndrome_string_z = (H_check@error_string_x % 2) * 3\n",
    "    \n",
    "    # convert syndrome strings to matrix:\n",
    "    M = code_size + 1\n",
    "    syndrome_matrix_X = np.zeros((M, M), dtype=np.uint8)\n",
    "    syndrome_string_x = syndrome_string_x.reshape(M, - 1)\n",
    "    syndrome_matrix_X[::2, 2::2] = syndrome_string_x[::2]\n",
    "    syndrome_matrix_X[1::2, 1:M - 2:2] = syndrome_string_x[1::2]\n",
    "\n",
    "    syndrome_matrix_Z = np.zeros((M, M), dtype=np.uint8)\n",
    "    syndrome_string_z = syndrome_string_z.reshape(M, - 1)\n",
    "    syndrome_matrix_Z[::2, 2::2] = syndrome_string_z[::2]\n",
    "    syndrome_matrix_Z[1::2, 1:M - 2:2] = syndrome_string_z[1::2]\n",
    "    # Combine syndrome matrices where 1 entries \n",
    "    # correspond to x and 3 entries to z defects\n",
    "    syndrome_matrix = syndrome_matrix_X + np.rot90(syndrome_matrix_Z, - 1)\n",
    "    \n",
    "    # Return the syndrome matrix\n",
    "    return syndrome_matrix\n",
    "\n",
    "def get_eq_class(error, code_size):\n",
    "    error_matrix = error.reshape(code_size, code_size)\n",
    "    # Count number of Z-errors on west edge\n",
    "    Z_count = np.count_nonzero( \n",
    "        (error_matrix[:,0] == 3) + (error_matrix[:,0] == 2) ) \n",
    "    # Count number of X-errors on north edge\n",
    "    X_count = np.count_nonzero(\n",
    "        (error_matrix[0,:] == 1) + (error_matrix[0,:] == 2) ) \n",
    "    # Determine equivalence class from parity of Z-errors on west edge\n",
    "    # and X-errors on north edge\n",
    "    if Z_count % 2 == 0:\n",
    "        if X_count % 2 == 0:\n",
    "            return np.array([0, 0]) # Equivalence class I\n",
    "        else:\n",
    "            return np.array([1, 0]) # Equivalence class X\n",
    "    else:\n",
    "        if X_count % 2 == 0:\n",
    "            return np.array([0, 1]) # Equivalence class Z\n",
    "        else:\n",
    "            return np.array([1, 1]) # Equivalence class Y"
   ]
  },
  {
   "cell_type": "code",
   "execution_count": 15,
   "metadata": {},
   "outputs": [],
   "source": [
    "error_chain = generate_error_chain(p, d)\n",
    "# error_chain = np.ones_like(error_chain)\n",
    "# Determine the syndrome consistent with the error\n",
    "syndrome = get_syndrome(error_chain, H_check, d)\n",
    "# Determine the equivalence class of the error chain\n",
    "true_eq_class = get_eq_class(error_chain, d)\n"
   ]
  },
  {
   "cell_type": "code",
   "execution_count": 16,
   "metadata": {},
   "outputs": [
    {
     "data": {
      "text/plain": [
       "array([[0, 0, 0, 0, 0, 0],\n",
       "       [3, 0, 0, 0, 0, 0],\n",
       "       [0, 0, 0, 0, 0, 0],\n",
       "       [3, 0, 0, 0, 0, 0],\n",
       "       [0, 0, 0, 0, 0, 0],\n",
       "       [0, 0, 0, 0, 0, 0]], dtype=uint8)"
      ]
     },
     "execution_count": 16,
     "metadata": {},
     "output_type": "execute_result"
    }
   ],
   "source": [
    "syndrome"
   ]
  },
  {
   "cell_type": "markdown",
   "metadata": {},
   "source": [
    "# Create matching graph with virtual nodes closest to each node"
   ]
  },
  {
   "cell_type": "code",
   "execution_count": 18,
   "metadata": {},
   "outputs": [],
   "source": [
    "graph = get_torch_graph(syndrome, true_eq_class)"
   ]
  },
  {
   "cell_type": "code",
   "execution_count": 19,
   "metadata": {},
   "outputs": [
    {
     "data": {
      "text/plain": [
       "[array([[0., 1., 1., 0.],\n",
       "        [0., 1., 3., 0.]], dtype=float32),\n",
       " array([[0, 1],\n",
       "        [1, 0]]),\n",
       " array([[0.5],\n",
       "        [0.5]], dtype=float32),\n",
       " array([[0., 0.]], dtype=float32)]"
      ]
     },
     "execution_count": 19,
     "metadata": {},
     "output_type": "execute_result"
    }
   ],
   "source": [
    "graph"
   ]
  },
  {
   "cell_type": "code",
   "execution_count": null,
   "metadata": {},
   "outputs": [],
   "source": []
  }
 ],
 "metadata": {
  "kernelspec": {
   "display_name": "Python 3.10.7 ('venv_master': venv)",
   "language": "python",
   "name": "python3"
  },
  "language_info": {
   "codemirror_mode": {
    "name": "ipython",
    "version": 3
   },
   "file_extension": ".py",
   "mimetype": "text/x-python",
   "name": "python",
   "nbconvert_exporter": "python",
   "pygments_lexer": "ipython3",
   "version": "3.12.4"
  },
  "orig_nbformat": 4,
  "vscode": {
   "interpreter": {
    "hash": "c7d4e6ef1ba7a8f36b6781798b3ea2b625aed32dd7d2ea93010a6ab7256d8c2c"
   }
  }
 },
 "nbformat": 4,
 "nbformat_minor": 2
}
